{
 "cells": [
  {
   "cell_type": "code",
   "execution_count": 322,
   "id": "51419cf2",
   "metadata": {},
   "outputs": [
    {
     "name": "stdout",
     "output_type": "stream",
     "text": [
      "\n"
     ]
    }
   ],
   "source": [
    "#A simple program which reads a txt file and uses value key pairs to find the top 10 words\n",
    "\n",
    "import sys\n",
    "import numpy as np\n",
    "import matplotlib.pyplot as plt\n",
    "\n",
    "\n",
    "notIn =[]\n",
    "\n",
    "#inp=input()\n",
    "#f=open(inp,\"r\")\n",
    "#newline[]\n",
    "file = sys.stdin.read()\n",
    "\n",
    "    \n",
    "#f = open(\"livingOnAPrayer.txt\",\"r\")\n",
    "#file = f.read()\n",
    "print(file)\n",
    "\n",
    "\n",
    "s= open(\"stopwords-MySQL.txt\", \"r\")\n",
    "stopWords = s.read()\n",
    "\n"
   ]
  },
  {
   "cell_type": "code",
   "execution_count": 315,
   "id": "823d243c",
   "metadata": {},
   "outputs": [],
   "source": [
    "#for line in stopWords.readlines():\n",
    "#    print(line)\n",
    "#stopWords.close()\n",
    "\n",
    "#for line in file.readlines():\n",
    "#    print(line)\n"
   ]
  },
  {
   "cell_type": "code",
   "execution_count": 316,
   "id": "a3d60007",
   "metadata": {},
   "outputs": [
    {
     "name": "stdout",
     "output_type": "stream",
     "text": [
      "{'time': 5, 'long': 5, 'ago': 5, 'tommy': 13, 'work': 5, 'docks': 5, 'union': 5, 'strike': 5, 'luck': 5, 'tough': 17, 'gina': 9, 'works': 5, 'diner': 5, 'day': 5, 'working': 5, 'man': 5, 'brings': 5, 'home': 5, 'pay': 5, 'love': 17, 'mmm': 5, 've': 33, 'gotta': 13, 'hold': 13, 'doesn': 9, 't': 9, 'make': 41, 'difference': 9, 'lot': 9, 'll': 29, 'give': 9, 'shot': 9, 'whoa': 61, 'half': 21, 'livin': 41, 'prayer': 41, 'hand': 21, 'swear': 21, 'string': 5, 'hock': 5, 'holding': 5, 'talk': 5, 'ooh': 5, 'dreams': 5, 'running': 5, 'cries': 5, 'night': 5, 'whispers': 5, 'baby': 5, 'someday': 5, 'ready': 5, 'live': 5, 'fight': 5, 'livingonaprayer': 1, 'txt': 1}\n"
     ]
    }
   ],
   "source": [
    "#remove trailing whitespaces\n",
    "\n",
    "file = file.strip()\n",
    "file = file.lower()\n",
    "\n",
    "testWords = filter(None, re.split('\\W+', file))\n",
    "#for words in testWords:\n",
    "#    print(words)\n",
    "\n",
    "\n",
    "\n",
    "newFile = file.split()\n",
    "stopWords = stopWords.strip()\n",
    "newStop = stopWords.split()\n",
    "\n",
    "for x in testWords:\n",
    "    if x not in newStop:\n",
    "        notIn.append(x) \n",
    "\n",
    "#newDict = dict()\n",
    "for x in notIn:\n",
    "    if x in newDict.keys():\n",
    "        count = int(newDict[x])\n",
    "        count = count +1\n",
    "        newDict.update({x:count})\n",
    "    else:\n",
    "        newDict.update({x:1})\n",
    "\n",
    "#print(notIn)\n",
    "print(newDict)"
   ]
  },
  {
   "cell_type": "code",
   "execution_count": 317,
   "id": "431613f4",
   "metadata": {},
   "outputs": [
    {
     "name": "stdout",
     "output_type": "stream",
     "text": [
      "{'whoa': 61, 'livin': 41, 'make': 41, 'prayer': 41, 've': 33, 'll': 29, 'half': 21, 'hand': 21, 'swear': 21, 'love': 17, 'tough': 17, 'gotta': 13, 'hold': 13, 'tommy': 13, 'difference': 9, 'doesn': 9, 'gina': 9, 'give': 9, 'lot': 9, 'shot': 9, 't': 9, 'ago': 5, 'baby': 5, 'brings': 5, 'cries': 5, 'day': 5, 'diner': 5, 'docks': 5, 'dreams': 5, 'fight': 5, 'hock': 5, 'holding': 5, 'home': 5, 'live': 5, 'long': 5, 'luck': 5, 'man': 5, 'mmm': 5, 'night': 5, 'ooh': 5, 'pay': 5, 'ready': 5, 'running': 5, 'someday': 5, 'strike': 5, 'string': 5, 'talk': 5, 'time': 5, 'union': 5, 'whispers': 5, 'work': 5, 'working': 5, 'works': 5, 'livingonaprayer': 1, 'txt': 1}\n"
     ]
    }
   ],
   "source": [
    "sorted_dict = dict(reversed(sorted(newDict.items())))\n",
    "#print(sorted_dict)\n",
    "#print(\"----------------\")\n",
    "\n",
    "\n",
    "sorted_dict2 = dict(reversed(sorted(sorted_dict.items(), key=lambda item: item[1])))\n",
    "print(sorted_dict2)\n",
    "\n",
    "finalData = {k: sorted_dict2[k] for k in list(sorted_dict2)[:10]}\n",
    "\n",
    "#print(first10pairs)\n",
    "#print(len(finalData))\n"
   ]
  },
  {
   "cell_type": "code",
   "execution_count": 318,
   "id": "c140d83c",
   "metadata": {},
   "outputs": [
    {
     "data": {
      "image/png": "[encoded data removed]",
      "text/plain": [
       "<Figure size 432x288 with 1 Axes>"
      ]
     },
     "metadata": {
      "needs_background": "light"
     },
     "output_type": "display_data"
    }
   ],
   "source": [
    "y_pos = np.arange(len(finalData))\n",
    "\n",
    "\n",
    "finalx = list(finalData.values())\n",
    "finaly = list(finalData.keys())\n",
    "\n",
    "plt.bar(y_pos, finalx, align='center', alpha=0.5)\n",
    "plt.xticks(y_pos, finaly)\n",
    "plt.ylabel('#occurances')\n",
    "plt.title('top ten words')\n",
    "\n",
    "plt.show()\n"
   ]
  },
  {
   "cell_type": "code",
   "execution_count": null,
   "id": "105f6b5b",
   "metadata": {},
   "outputs": [],
   "source": []
  },
  {
   "cell_type": "code",
   "execution_count": null,
   "id": "6069fe51",
   "metadata": {},
   "outputs": [],
   "source": []
  }
 ],
 "metadata": {
  "kernelspec": {
   "display_name": "Python 3 (ipykernel)",
   "language": "python",
   "name": "python3"
  },
  "language_info": {
   "codemirror_mode": {
    "name": "ipython",
    "version": 3
   },
   "file_extension": ".py",
   "mimetype": "text/x-python",
   "name": "python",
   "nbconvert_exporter": "python",
   "pygments_lexer": "ipython3",
   "version": "3.9.7"
  }
 },
 "nbformat": 4,
 "nbformat_minor": 5
}
