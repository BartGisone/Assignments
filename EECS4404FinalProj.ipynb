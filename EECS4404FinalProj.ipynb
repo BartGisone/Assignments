{
 "cells": [
  {
   "cell_type": "code",
   "execution_count": 251,
   "id": "8015c336",
   "metadata": {},
   "outputs": [
    {
     "name": "stderr",
     "output_type": "stream",
     "text": [
      "[nltk_data] Downloading package punkt to\n",
      "[nltk_data]     /Users/bartgisone/nltk_data...\n",
      "[nltk_data]   Package punkt is already up-to-date!\n",
      "[nltk_data] Downloading package stopwords to\n",
      "[nltk_data]     /Users/bartgisone/nltk_data...\n",
      "[nltk_data]   Package stopwords is already up-to-date!\n",
      "[nltk_data] Downloading package wordnet to\n",
      "[nltk_data]     /Users/bartgisone/nltk_data...\n",
      "[nltk_data]   Package wordnet is already up-to-date!\n"
     ]
    },
    {
     "data": {
      "text/plain": [
       "True"
      ]
     },
     "execution_count": 251,
     "metadata": {},
     "output_type": "execute_result"
    }
   ],
   "source": [
    "#EECS4404 Niave Bayes prediction model for sentences\n",
    "\n",
    "#import numpy as np\n",
    "#import pandas as pd\n",
    "import nltk\n",
    "import string\n",
    "#import re\n",
    "#import seaborn as sns\n",
    "from sklearn.feature_extraction.text import TfidfVectorizer\n",
    "from sklearn.naive_bayes import MultinomialNB\n",
    "from sklearn.pipeline import make_pipeline\n",
    "from sklearn.metrics import confusion_matrix, accuracy_score\n",
    "#import matplotlib.pyplot as plt\n",
    "\n",
    "nltk.download('punkt')\n",
    "nltk.download('stopwords')\n",
    "nltk.download('wordnet')\n"
   ]
  },
  {
   "cell_type": "code",
   "execution_count": 252,
   "id": "16773ec7",
   "metadata": {},
   "outputs": [],
   "source": [
    "from sklearn.feature_extraction.text import CountVectorizer\n",
    "corpus = [\n",
    "    'How was your day today?',\n",
    "    'Today was a good day.',\n",
    "    'Tomorrow will be good too!',\n",
    "    'these are test sentences',\n",
    "    'we have many tests tomorrow',\n",
    "    'lets do good on our tests tomorrow'\n",
    "]\n",
    "vectorizer = CountVectorizer()\n",
    "X = vectorizer.fit_transform(corpus)\n",
    "Y = vectorizer.get_feature_names()\n",
    "\n"
   ]
  },
  {
   "cell_type": "code",
   "execution_count": 253,
   "id": "e5b200e8",
   "metadata": {},
   "outputs": [],
   "source": [
    "#lemmatization and removal of stopwords\n",
    "\n",
    "# Import stopwords\n",
    "from nltk.corpus import stopwords\n",
    "# Import lemmatizer; using WordNetLemmatizer\n",
    "from nltk.stem import WordNetLemmatizer\n",
    "\n",
    "newArray = \"\"\n",
    "stopwords_english = set(stopwords.words('english'))\n",
    "lemmatizer = WordNetLemmatizer()\n",
    "for i in Y:\n",
    "    if i not in stopwords_english:\n",
    "             newArray += i + \" \"\n",
    "    else:\n",
    "         pass\n",
    " \n",
    "tokens = nltk.word_tokenize(newArray)\n",
    "        \n",
    "#print(newArray)\n",
    "#print(tokens)\n"
   ]
  },
  {
   "cell_type": "code",
   "execution_count": 254,
   "id": "972cf031",
   "metadata": {},
   "outputs": [],
   "source": [
    "#lemmatize words\n",
    "newArray = \"\"\n",
    "for i in tokens:\n",
    "    newArray += lemmatizer.lemmatize(i) + \" \"\n",
    "#convert to Array    \n",
    "newArray = nltk.word_tokenize(newArray)\n",
    "#remove duplicate words\n",
    "newArray = list(dict.fromkeys(newArray))\n",
    "\n",
    "#all words should be similar by default\n",
    "arrayInfo = []\n",
    "for i in newArray:\n",
    "    arrayInfo.append('similar')\n",
    "\n",
    "#add random words to array for disimilar purposes\n",
    "\n",
    "disimilarArray = ['speed', 'nothing','country', 'tool', 'frog', 'hamster', 'power', 'book', 'elf', 'identical', 'credit', 'bag', 'pear']\n",
    "disimilarInfo = ['disimilar','disimilar','disimilar','disimilar','disimilar','disimilar','disimilar','disimilar','disimilar','disimilar','disimilar','disimilar','disimilar' ]\n",
    "\n",
    "for i in disimilarArray:\n",
    "    newArray.append(i)\n",
    "\n",
    "for i in disimilarInfo:   \n",
    "    arrayInfo.append(i)\n",
    "\n",
    "#print(newArray)\n",
    "\n"
   ]
  },
  {
   "cell_type": "code",
   "execution_count": 255,
   "id": "8b2cb055",
   "metadata": {},
   "outputs": [
    {
     "name": "stdout",
     "output_type": "stream",
     "text": [
      "['breakfast', 'day', 'egg', 'great', 'random', 'sentence', 'similarity', 'start', 'test', 'tomorrow', 'yesterday']\n"
     ]
    }
   ],
   "source": [
    "#test = ['today', 'speed', 'egg', 'hamster','good', 'day', 'apple', 'train']\n",
    "#testInfo = ['similar', 'disimilar','disimilar','disimilar', 'similar','similar', 'disimilar', 'disimilar']\n",
    "\n",
    "\n",
    "corpus2 = [\n",
    "    'How was your day yesterday?',\n",
    "    'Eggs are a great start for any breakfast',\n",
    "    'Tomorrow I will have eggs',\n",
    "    'test for similarities',\n",
    "    'this is a random sentence'\n",
    "]\n",
    "vectorizer = CountVectorizer()\n",
    "X2 = vectorizer.fit_transform(corpus2)\n",
    "Z = vectorizer.get_feature_names()\n",
    "#print(Z)\n",
    "\n",
    "\n",
    "test = \"\"\n",
    "\n",
    "#get rid of all stop words\n",
    "for i in Z:\n",
    "    if i not in stopwords_english:\n",
    "            test += i + \" \"\n",
    "    else:\n",
    "         pass\n",
    "\n",
    "#tokenize to use lemmatizer\n",
    "tokens = nltk.word_tokenize(test)\n",
    "\n",
    "#lemmatize words\n",
    "test = \"\"\n",
    "for i in tokens:\n",
    "    test += lemmatizer.lemmatize(i) + \" \"\n",
    "#convert to Array    \n",
    "test = nltk.word_tokenize(test)\n",
    "#remove duplicate words\n",
    "test = list(dict.fromkeys(test))\n",
    "\n",
    "#used to see similar/disimilar words \n",
    "print(test)\n",
    "\n",
    "\n",
    "#you must manually create categories (similar/disimilar)!!!\n",
    "\n",
    "testInfo = ['disimilar','similar','disimilar','disimilar','disimilar','similar','disimilar','disimilar','similar','similar','similar',]\n",
    "\n"
   ]
  },
  {
   "cell_type": "code",
   "execution_count": 256,
   "id": "9d62b4f0",
   "metadata": {},
   "outputs": [
    {
     "name": "stdout",
     "output_type": "stream",
     "text": [
      "Pipeline(steps=[('tfidfvectorizer', TfidfVectorizer()),\n",
      "                ('multinomialnb', MultinomialNB())])\n"
     ]
    }
   ],
   "source": [
    "#creates model and fits training data\n",
    "model = make_pipeline(TfidfVectorizer(), MultinomialNB())\n",
    "model.fit(newArray, arrayInfo)\n",
    "print(model)\n",
    "labels = model.predict(test)"
   ]
  },
  {
   "cell_type": "code",
   "execution_count": 257,
   "id": "4285cec8",
   "metadata": {},
   "outputs": [
    {
     "data": {
      "text/plain": [
       "Text(89.18, 0.5, 'predicted value')"
      ]
     },
     "execution_count": 257,
     "metadata": {},
     "output_type": "execute_result"
    },
    {
     "data": {
      "image/png": "[encoded data removed]",
      "text/plain": [
       "<Figure size 432x288 with 1 Axes>"
      ]
     },
     "metadata": {},
     "output_type": "display_data"
    }
   ],
   "source": [
    "from sklearn.metrics import confusion_matrix\n",
    "mat = confusion_matrix(testInfo, labels)\n",
    "sns.heatmap(mat.T, square=True, annot=True, fmt='d', cbar=False,\n",
    "            xticklabels=['similar', 'disimilar'], yticklabels=['similar', 'disimilar'])\n",
    "plt.xlabel('true value')\n",
    "plt.ylabel('predicted value')"
   ]
  },
  {
   "cell_type": "code",
   "execution_count": null,
   "id": "4e8c90d1",
   "metadata": {},
   "outputs": [],
   "source": []
  },
  {
   "cell_type": "code",
   "execution_count": null,
   "id": "4071dd8c",
   "metadata": {},
   "outputs": [],
   "source": []
  },
  {
   "cell_type": "code",
   "execution_count": null,
   "id": "11c48be5",
   "metadata": {},
   "outputs": [],
   "source": []
  }
 ],
 "metadata": {
  "kernelspec": {
   "display_name": "Python 3 (ipykernel)",
   "language": "python",
   "name": "python3"
  },
  "language_info": {
   "codemirror_mode": {
    "name": "ipython",
    "version": 3
   },
   "file_extension": ".py",
   "mimetype": "text/x-python",
   "name": "python",
   "nbconvert_exporter": "python",
   "pygments_lexer": "ipython3",
   "version": "3.9.7"
  }
 },
 "nbformat": 4,
 "nbformat_minor": 5
}
